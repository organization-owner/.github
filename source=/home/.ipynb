{
  "nbformat": 4,
  "nbformat_minor": 0,
  "metadata": {
    "colab": {
      "provenance": [],
      "authorship_tag": "ABX9TyNM91tTMtSAtJaMmdU/Bs2/",
      "include_colab_link": true
    },
    "kernelspec": {
      "name": "python3",
      "display_name": "Python 3"
    },
    "language_info": {
      "name": "python"
    }
  },
  "cells": [
    {
      "cell_type": "markdown",
      "metadata": {
        "id": "view-in-github",
        "colab_type": "text"
      },
      "source": [
        "<a href=\"https://colab.research.google.com/github/organization-owner/.github/blob/main/source%3D/home/.ipynb\" target=\"_parent\"><img src=\"https://colab.research.google.com/assets/colab-badge.svg\" alt=\"Open In Colab\"/></a>"
      ]
    },
    {
      "cell_type": "code",
      "source": [
        "pip install --upgrade pip"
      ],
      "metadata": {
        "id": "6V2LhCsotPTw",
        "colab": {
          "base_uri": "https://localhost:8080/"
        },
        "outputId": "0c79a475-c48c-4d75-9952-f60fc013d28a"
      },
      "execution_count": null,
      "outputs": [
        {
          "output_type": "stream",
          "name": "stdout",
          "text": [
            "Requirement already satisfied: pip in /usr/local/lib/python3.10/dist-packages (23.1.2)\n",
            "Collecting pip\n",
            "  Downloading pip-24.0-py3-none-any.whl (2.1 MB)\n",
            "\u001b[2K     \u001b[90m━━━━━━━━━━━━━━━━━━━━━━━━━━━━━━━━━━━━━━━━\u001b[0m \u001b[32m2.1/2.1 MB\u001b[0m \u001b[31m10.1 MB/s\u001b[0m eta \u001b[36m0:00:00\u001b[0m\n",
            "\u001b[?25hInstalling collected packages: pip\n",
            "  Attempting uninstall: pip\n",
            "    Found existing installation: pip 23.1.2\n",
            "    Uninstalling pip-23.1.2:\n",
            "      Successfully uninstalled pip-23.1.2\n",
            "Successfully installed pip-24.0\n"
          ]
        }
      ]
    },
    {
      "cell_type": "code",
      "source": [
        "venv active"
      ],
      "metadata": {
        "colab": {
          "base_uri": "https://localhost:8080/",
          "height": 106
        },
        "id": "qtdn2f8MvC3i",
        "outputId": "dc82b0dc-55ac-44cc-a2dc-a6361e5f3077"
      },
      "execution_count": null,
      "outputs": [
        {
          "output_type": "error",
          "ename": "SyntaxError",
          "evalue": "invalid syntax (<ipython-input-4-c4a203a0b744>, line 1)",
          "traceback": [
            "\u001b[0;36m  File \u001b[0;32m\"<ipython-input-4-c4a203a0b744>\"\u001b[0;36m, line \u001b[0;32m1\u001b[0m\n\u001b[0;31m    venv active\u001b[0m\n\u001b[0m         ^\u001b[0m\n\u001b[0;31mSyntaxError\u001b[0m\u001b[0;31m:\u001b[0m invalid syntax\n"
          ]
        }
      ]
    },
    {
      "cell_type": "markdown",
      "source": [
        "\n",
        "\n",
        "```\n",
        "class GenerativeModel {\n",
        "  constructor() {\n",
        "    this.weights = [];\n",
        "  }\n",
        "\n",
        "  addWeight(weight) {\n",
        "    this.weights.push(weight);\n",
        "  }\n",
        "\n",
        "  alterSelf() {\n",
        "    // Randomly mutate one of the weights.\n",
        "    var index = Math.floor(Math.random() * this.weights.length);\n",
        "    var weight = this.weights[index];\n",
        "    weight += Math.random() * 0.1;\n",
        "    this.weights[index] = weight;\n",
        "  }\n",
        "\n",
        "  generate() {\n",
        "    // Generate a new output based on the current weights.\n",
        "    var output = 0;\n",
        "    for (var i = 0; i < this.weights.length; i++) {\n",
        "      output += this.weights[i] * Math.random();\n",
        "    }\n",
        "    return output;\n",
        "  }\n",
        "}\n",
        "```\n",
        "\n"
      ],
      "metadata": {
        "id": "RrLwEON899qr"
      }
    }
  ]
}